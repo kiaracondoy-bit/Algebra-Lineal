{
  "nbformat": 4,
  "nbformat_minor": 0,
  "metadata": {
    "colab": {
      "provenance": [],
      "authorship_tag": "ABX9TyPqxd7H8e86Km8dV7+MFzYc",
      "include_colab_link": true
    },
    "kernelspec": {
      "name": "python3",
      "display_name": "Python 3"
    },
    "language_info": {
      "name": "python"
    }
  },
  "cells": [
    {
      "cell_type": "markdown",
      "metadata": {
        "id": "view-in-github",
        "colab_type": "text"
      },
      "source": [
        "<a href=\"https://colab.research.google.com/github/kiaracondoy-bit/Algebra-Lineal/blob/main/Matriz1.ipynb\" target=\"_parent\"><img src=\"https://colab.research.google.com/assets/colab-badge.svg\" alt=\"Open In Colab\"/></a>"
      ]
    },
    {
      "cell_type": "code",
      "metadata": {
        "colab": {
          "base_uri": "https://localhost:8080/"
        },
        "id": "80004174",
        "outputId": "1238cf04-a29f-47b8-a9ee-837b9752015e"
      },
      "source": [
        "import datetime\n",
        "\n",
        "# Replace \"Your Name\" with your actual name\n",
        "name = \"Kiara Salomé Condoy Morocho\"\n",
        "now = datetime.datetime.now()\n",
        "\n",
        "print(f\"Nombre: {name}\")\n",
        "print(f\"Fecha: {now.strftime('%Y-%m-%d')}\")\n",
        "print(f\"Hora: {now.strftime('%H:%M:%S')}\")"
      ],
      "execution_count": 11,
      "outputs": [
        {
          "output_type": "stream",
          "name": "stdout",
          "text": [
            "Nombre: Kiara Salomé Condoy Morocho\n",
            "Fecha: 2025-10-20\n",
            "Hora: 17:45:33\n"
          ]
        }
      ]
    },
    {
      "cell_type": "code",
      "execution_count": 12,
      "metadata": {
        "id": "bD6ej1Wyo3se",
        "colab": {
          "base_uri": "https://localhost:8080/"
        },
        "outputId": "24ef3031-bb8a-4d46-8573-b1f9d4a37a55"
      },
      "outputs": [
        {
          "output_type": "stream",
          "name": "stdout",
          "text": [
            "Matriz A:\n",
            " [[ 1  0]\n",
            " [ 6 -2]\n",
            " [-1  4]]\n",
            "\n",
            "Matriz B:\n",
            " [[ 2 -5  1 -2]\n",
            " [ 3  2  0 -1]]\n",
            "\n",
            " Producto matricial (A * B):\n",
            " [[  2  -5   1  -2]\n",
            " [  6 -34   6 -10]\n",
            " [ 10  13  -1  -2]]\n",
            "El producto de C[0,0] es  2\n"
          ]
        }
      ],
      "source": [
        "import numpy as np\n",
        "\n",
        "# Definir dos matrices A y B de 3x3\n",
        "A = np.array([[1, 0],\n",
        "              [6, -2],\n",
        "              [-1, 4]])\n",
        "\n",
        "B = np.array([[2, -5, 1, -2],\n",
        "              [3, 2, 0, -1]])\n",
        "\n",
        "print(\"Matriz A:\\n\", A)\n",
        "print(\"\\nMatriz B:\\n\", B)\n",
        "\n",
        "# ------------------------------\n",
        "# Suma de matrices\n",
        "# ------------------------------\n",
        "#suma = A + B\n",
        "#print(\"\\n Suma (A + B):\\n\", suma)\n",
        "\n",
        "# ------------------------------\n",
        "#  Resta de matrices\n",
        "# ------------------------------\n",
        "#resta = A - B\n",
        "#print(\"\\n Resta (A - B):\\n\", resta)\n",
        "\n",
        "# ------------------------------\n",
        "# Multiplicación por un escalar\n",
        "# ------------------------------\n",
        "#escalar = 2\n",
        "#producto_escalar = escalar * A\n",
        "#print(f\"\\n Multiplicación por escalar ({escalar} * A):\\n\", producto_escalar)\n",
        "\n",
        "# ------------------------------\n",
        "#  Multiplicación matricial\n",
        "# ------------------------------\n",
        "producto = np.dot(A, B)   # o A @ B\n",
        "print(\"\\n Producto matricial (A * B):\\n\", producto)\n",
        "\n",
        "valor=(A[0,0] * B[0,0] + A[0,1] * B[1,0])\n",
        "\n",
        "print(\"El producto de C[0,0] es \",valor)\n",
        "\n",
        "# ------------------------------\n",
        "# Matriz transpuesta\n",
        "# ------------------------------\n",
        "#transpuesta = A.T\n",
        "#print(\"\\n Transpuesta de A (Aᵀ):\\n\", transpuesta)\n",
        "\n"
      ]
    }
  ]
}