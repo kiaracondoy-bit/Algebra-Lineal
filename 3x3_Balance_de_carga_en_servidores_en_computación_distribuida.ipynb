{
  "nbformat": 4,
  "nbformat_minor": 0,
  "metadata": {
    "colab": {
      "provenance": [],
      "authorship_tag": "ABX9TyOHLKSG0cB7FxV0UvtC7GoA",
      "include_colab_link": true
    },
    "kernelspec": {
      "name": "python3",
      "display_name": "Python 3"
    },
    "language_info": {
      "name": "python"
    }
  },
  "cells": [
    {
      "cell_type": "markdown",
      "metadata": {
        "id": "view-in-github",
        "colab_type": "text"
      },
      "source": [
        "<a href=\"https://colab.research.google.com/github/kiaracondoy-bit/Algebra-Lineal/blob/main/3x3_Balance_de_carga_en_servidores_en_computaci%C3%B3n_distribuida.ipynb\" target=\"_parent\"><img src=\"https://colab.research.google.com/assets/colab-badge.svg\" alt=\"Open In Colab\"/></a>"
      ]
    },
    {
      "cell_type": "code",
      "execution_count": null,
      "metadata": {
        "colab": {
          "base_uri": "https://localhost:8080/"
        },
        "id": "zEXfx54lK03V",
        "outputId": "b0dde41e-73b4-4b20-f17d-2f71cd9dae0b"
      },
      "outputs": [
        {
          "output_type": "execute_result",
          "data": {
            "text/plain": [
              "{x: 300, y: 400, z: 500}"
            ]
          },
          "metadata": {},
          "execution_count": 18
        }
      ],
      "source": [
        "from sympy import symbols, Eq, solve\n",
        "x, y, z = symbols('x y z')\n",
        "sol = solve([\n",
        "    Eq(1*x + y + z, 1200),\n",
        "    Eq(2*x + y + 3*z, 2500),\n",
        "    Eq(x - y + z, 400 )\n",
        "], (x, y, z))\n",
        "sol"
      ]
    },
    {
      "cell_type": "code",
      "source": [
        "print (\"Kiara y José\")\n",
        "print (\"carrera\")"
      ],
      "metadata": {
        "colab": {
          "base_uri": "https://localhost:8080/"
        },
        "id": "BbFFN1I_VIRU",
        "outputId": "57ebbcdd-f5cc-48b7-e51c-36e8ab35d6ba"
      },
      "execution_count": null,
      "outputs": [
        {
          "output_type": "stream",
          "name": "stdout",
          "text": [
            "Kiara y José\n",
            "carrera\n"
          ]
        }
      ]
    },
    {
      "cell_type": "code",
      "source": [
        "from datetime import datetime\n",
        "import pytz\n",
        "from sympy import symbols, Eq, solve\n",
        "\n",
        "ecuador_tz = pytz.timezone(\"America/Guayaquil\")\n",
        "hora_actual = datetime.now(ecuador_tz)\n",
        "print(\"Hora actual en Ecuador:\" , hora_actual.strftime(\"%Y-%m-%d %H:%M:%S\"))\n",
        "print(\"Kiara Salomé Condoy Morocho y José Daniel Maldonado Rodriguez\")\n",
        "print(\"Primer ciclo - Computación\")\n",
        "\n",
        "\n",
        "x, y, z = symbols('x y z')\n",
        "sol = solve([\n",
        "    Eq(x + 2*y + 3*z, 14),\n",
        "    Eq(2*x + 3*y + z, 13),\n",
        "    Eq(3*x + y + 2*z, 13)\n",
        "], (x, y, z))\n",
        "sol"
      ],
      "metadata": {
        "colab": {
          "base_uri": "https://localhost:8080/"
        },
        "id": "ZsFfDFKLYxiR",
        "outputId": "4f559838-b757-46eb-ea87-28590d728309"
      },
      "execution_count": null,
      "outputs": [
        {
          "output_type": "stream",
          "name": "stdout",
          "text": [
            "Hora actual en Ecuador: 2025-10-17 08:49:42\n",
            "Kiara Salomé Condoy Morocho y José Daniel Maldonado Rodriguez\n",
            "Primer ciclo - Computación\n"
          ]
        },
        {
          "output_type": "execute_result",
          "data": {
            "text/plain": [
              "{x: 17/9, y: 20/9, z: 23/9}"
            ]
          },
          "metadata": {},
          "execution_count": 13
        }
      ]
    }
  ]
}