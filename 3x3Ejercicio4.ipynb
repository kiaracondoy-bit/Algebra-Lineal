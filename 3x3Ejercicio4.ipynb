{
  "nbformat": 4,
  "nbformat_minor": 0,
  "metadata": {
    "colab": {
      "provenance": [],
      "authorship_tag": "ABX9TyO5urb07hzO/AhRF866zY9z",
      "include_colab_link": true
    },
    "kernelspec": {
      "name": "python3",
      "display_name": "Python 3"
    },
    "language_info": {
      "name": "python"
    }
  },
  "cells": [
    {
      "cell_type": "markdown",
      "metadata": {
        "id": "view-in-github",
        "colab_type": "text"
      },
      "source": [
        "<a href=\"https://colab.research.google.com/github/kiaracondoy-bit/Algebra-Lineal/blob/main/3x3Ejercicio4.ipynb\" target=\"_parent\"><img src=\"https://colab.research.google.com/assets/colab-badge.svg\" alt=\"Open In Colab\"/></a>"
      ]
    },
    {
      "cell_type": "code",
      "execution_count": 1,
      "metadata": {
        "colab": {
          "base_uri": "https://localhost:8080/"
        },
        "id": "wzdP9KB3udbc",
        "outputId": "1e0bfd3d-9f7b-4b19-e869-06dced5fe5cd"
      },
      "outputs": [
        {
          "output_type": "execute_result",
          "data": {
            "text/plain": [
              "{x: -1, y: -4, z: 7}"
            ]
          },
          "metadata": {},
          "execution_count": 1
        }
      ],
      "source": [
        "from sympy import symbols, Eq, solve\n",
        "x, y, z = symbols('x y z')\n",
        "sol = solve([\n",
        "    Eq(2*x + y + z, 1),\n",
        "    Eq(3*x + 2*y + 2*z, 3),\n",
        "    Eq(x - 2*y - z, 0 )\n",
        "], (x, y, z))\n",
        "sol"
      ]
    }
  ]
}