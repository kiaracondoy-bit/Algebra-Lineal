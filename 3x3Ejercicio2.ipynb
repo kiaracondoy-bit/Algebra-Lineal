{
  "nbformat": 4,
  "nbformat_minor": 0,
  "metadata": {
    "colab": {
      "provenance": [],
      "authorship_tag": "ABX9TyOB0aRSuvcxRJaNwKlg2UDF",
      "include_colab_link": true
    },
    "kernelspec": {
      "name": "python3",
      "display_name": "Python 3"
    },
    "language_info": {
      "name": "python"
    }
  },
  "cells": [
    {
      "cell_type": "markdown",
      "metadata": {
        "id": "view-in-github",
        "colab_type": "text"
      },
      "source": [
        "<a href=\"https://colab.research.google.com/github/kiaracondoy-bit/Algebra-Lineal/blob/main/3x3Ejercicio2.ipynb\" target=\"_parent\"><img src=\"https://colab.research.google.com/assets/colab-badge.svg\" alt=\"Open In Colab\"/></a>"
      ]
    },
    {
      "cell_type": "code",
      "execution_count": 1,
      "metadata": {
        "colab": {
          "base_uri": "https://localhost:8080/"
        },
        "id": "6UrFnbektcSx",
        "outputId": "37c99384-b15a-4f48-e9eb-056c92419d0b"
      },
      "outputs": [
        {
          "output_type": "execute_result",
          "data": {
            "text/plain": [
              "{x: -1, y: 3, z: 5}"
            ]
          },
          "metadata": {},
          "execution_count": 1
        }
      ],
      "source": [
        "from sympy import symbols, Eq, solve\n",
        "x, y, z = symbols('x y z')\n",
        "sol = solve([\n",
        "    Eq(-1*x + 3*y + z, 15),\n",
        "    Eq(5*x - y + 2*z, 2),\n",
        "    Eq(3*x + 2*y - z, -2 )\n",
        "], (x, y, z))\n",
        "sol"
      ]
    }
  ]
}