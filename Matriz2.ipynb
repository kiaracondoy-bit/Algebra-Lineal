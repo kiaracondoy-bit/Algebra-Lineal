{
  "nbformat": 4,
  "nbformat_minor": 0,
  "metadata": {
    "colab": {
      "provenance": [],
      "authorship_tag": "ABX9TyOmRWUuP9TGPn7syzIRai15",
      "include_colab_link": true
    },
    "kernelspec": {
      "name": "python3",
      "display_name": "Python 3"
    },
    "language_info": {
      "name": "python"
    }
  },
  "cells": [
    {
      "cell_type": "markdown",
      "metadata": {
        "id": "view-in-github",
        "colab_type": "text"
      },
      "source": [
        "<a href=\"https://colab.research.google.com/github/kiaracondoy-bit/Algebra-Lineal/blob/main/Matriz2.ipynb\" target=\"_parent\"><img src=\"https://colab.research.google.com/assets/colab-badge.svg\" alt=\"Open In Colab\"/></a>"
      ]
    },
    {
      "cell_type": "code",
      "execution_count": 3,
      "metadata": {
        "colab": {
          "base_uri": "https://localhost:8080/"
        },
        "id": "WR7CGhiD6ihQ",
        "outputId": "951238cd-86fe-47f6-e460-c33f57f48590"
      },
      "outputs": [
        {
          "output_type": "stream",
          "name": "stdout",
          "text": [
            "Nombre: Kiara Salomé Condoy Morocho\n",
            "Carrera: Computación - Primer ciclo\n",
            "Fecha: 2025-10-22\n",
            "Hora: 07:39:37\n",
            "Matriz A:\n",
            " [[ 2  4  6]\n",
            " [ 1  3  5]\n",
            " [ 0 -1  2]]\n",
            "\n",
            "Matriz B:\n",
            " [[ 3  2  1]\n",
            " [ 4  0 -2]\n",
            " [ 1  3  5]]\n",
            "\n",
            " Suma (A + B):\n",
            " [[5 6 7]\n",
            " [5 3 3]\n",
            " [1 2 7]]\n",
            "\n",
            " Resta (A - B):\n",
            " [[-1  2  5]\n",
            " [-3  3  7]\n",
            " [-1 -4 -3]]\n",
            "\n",
            " Multiplicación por escalar (2 * A):\n",
            " [[ 4  8 12]\n",
            " [ 2  6 10]\n",
            " [ 0 -2  4]]\n",
            "\n",
            " Producto matricial (A * B):\n",
            " [[28 22 24]\n",
            " [20 17 20]\n",
            " [-2  6 12]]\n"
          ]
        }
      ],
      "source": [
        "\n",
        "import numpy as np\n",
        "import datetime\n",
        "import pytz # Import the pytz library for timezone handling\n",
        "\n",
        "# Replace \"Your Name\" with your actual name\n",
        "name = \"Kiara Salomé Condoy Morocho\"\n",
        "carrera = \"Computación - Primer ciclo\"\n",
        "# Get the timezone for Ecuador\n",
        "ecuador_timezone = pytz.timezone('America/Guayaquil')\n",
        "now_ecuador = datetime.datetime.now(ecuador_timezone)\n",
        "\n",
        "\n",
        "print(f\"Nombre: {name}\")\n",
        "print(f\"Carrera: {carrera}\")\n",
        "print(f\"Fecha: {now_ecuador.strftime('%Y-%m-%d')}\")\n",
        "print(f\"Hora: {now_ecuador.strftime('%H:%M:%S')}\")\n",
        "\n",
        "\n",
        "# Definir dos matrices A y B de 3x3\n",
        "A = np.array([[2, 4, 6],\n",
        "              [1, 3, 5],\n",
        "              [0, -1, 2]])\n",
        "\n",
        "B = np.array([[3, 2, 1],\n",
        "              [4, 0, -2],\n",
        "              [1, 3, 5]])\n",
        "\n",
        "print(\"Matriz A:\\n\", A)\n",
        "print(\"\\nMatriz B:\\n\", B)\n",
        "\n",
        "# ------------------------------\n",
        "# Suma de matrices\n",
        "# ------------------------------\n",
        "suma = A + B\n",
        "print(\"\\n Suma (A + B):\\n\", suma)\n",
        "\n",
        "# ------------------------------\n",
        "#  Resta de matrices\n",
        "# ------------------------------\n",
        "resta = A - B\n",
        "print(\"\\n Resta (A - B):\\n\", resta)\n",
        "\n",
        "# ------------------------------\n",
        "# Multiplicación por un escalar\n",
        "# ------------------------------\n",
        "escalar = 2\n",
        "producto_escalar = escalar * A\n",
        "print(f\"\\n Multiplicación por escalar ({escalar} * A):\\n\", producto_escalar)\n",
        "\n",
        "# ------------------------------\n",
        "#  Multiplicación matricial\n",
        "# ------------------------------\n",
        "producto = np.dot(A, B)   # o A @ B\n",
        "print(\"\\n Producto matricial (A * B):\\n\", producto)\n",
        "\n",
        "# ------------------------------\n",
        "# Matriz transpuesta\n",
        "# ------------------------------\n",
        "#transpuesta = A.T\n",
        "#print(\"\\n Transpuesta de A (Aᵀ):\\n\", transpuesta)"
      ]
    }
  ]
}